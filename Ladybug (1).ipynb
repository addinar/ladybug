{
 "cells": [
  {
   "cell_type": "code",
   "execution_count": 7,
   "id": "c0013911-dbe7-4d1a-a545-02cafec8009f",
   "metadata": {},
   "outputs": [
    {
     "name": "stdout",
     "output_type": "stream",
     "text": [
      "Requirement already satisfied: requests in /usr/local/opt/python-requests/lib/python3.12/site-packages (2.31.0)\n",
      "Requirement already satisfied: charset-normalizer<4,>=2 in /usr/local/opt/python-charset-normalizer/lib/python3.12/site-packages (from requests) (3.3.2)\n",
      "Requirement already satisfied: idna<4,>=2.5 in /usr/local/opt/python-idna/lib/python3.12/site-packages (from requests) (3.6)\n",
      "Requirement already satisfied: urllib3<3,>=1.21.1 in /usr/local/opt/python-urllib3/lib/python3.12/site-packages (from requests) (2.2.1)\n",
      "Requirement already satisfied: certifi>=2017.4.17 in /usr/local/opt/python-certifi/lib/python3.12/site-packages (from requests) (2024.2.2)\n",
      "Note: you may need to restart the kernel to use updated packages.\n"
     ]
    }
   ],
   "source": [
    "pip install requests"
   ]
  },
  {
   "cell_type": "code",
   "execution_count": 5,
   "id": "153dab76-b459-4025-92e5-937f79112b3a",
   "metadata": {},
   "outputs": [
    {
     "name": "stdout",
     "output_type": "stream",
     "text": [
      "Collecting openai\n",
      "  Downloading openai-1.14.0-py3-none-any.whl.metadata (18 kB)\n",
      "Requirement already satisfied: anyio<5,>=3.5.0 in /usr/local/Cellar/jupyterlab/4.1.2/libexec/lib/python3.12/site-packages (from openai) (4.3.0)\n",
      "Collecting distro<2,>=1.7.0 (from openai)\n",
      "  Downloading distro-1.9.0-py3-none-any.whl.metadata (6.8 kB)\n",
      "Requirement already satisfied: httpx<1,>=0.23.0 in /usr/local/Cellar/jupyterlab/4.1.2/libexec/lib/python3.12/site-packages (from openai) (0.26.0)\n",
      "Collecting pydantic<3,>=1.9.0 (from openai)\n",
      "  Downloading pydantic-2.6.4-py3-none-any.whl.metadata (85 kB)\n",
      "\u001b[2K     \u001b[90m━━━━━━━━━━━━━━━━━━━━━━━━━━━━━━━━━━━━━━━\u001b[0m \u001b[32m85.1/85.1 kB\u001b[0m \u001b[31m430.4 kB/s\u001b[0m eta \u001b[36m0:00:00\u001b[0ma \u001b[36m0:00:01\u001b[0m\n",
      "\u001b[?25hRequirement already satisfied: sniffio in /usr/local/Cellar/jupyterlab/4.1.2/libexec/lib/python3.12/site-packages (from openai) (1.3.0)\n",
      "Collecting tqdm>4 (from openai)\n",
      "  Downloading tqdm-4.66.2-py3-none-any.whl.metadata (57 kB)\n",
      "\u001b[2K     \u001b[90m━━━━━━━━━━━━━━━━━━━━━━━━━━━━━━━━━━━━━━━━\u001b[0m \u001b[32m57.6/57.6 kB\u001b[0m \u001b[31m1.0 MB/s\u001b[0m eta \u001b[36m0:00:00\u001b[0ma \u001b[36m0:00:01\u001b[0m\n",
      "\u001b[?25hCollecting typing-extensions<5,>=4.7 (from openai)\n",
      "  Downloading typing_extensions-4.10.0-py3-none-any.whl.metadata (3.0 kB)\n",
      "Requirement already satisfied: idna>=2.8 in /usr/local/opt/python-idna/lib/python3.12/site-packages (from anyio<5,>=3.5.0->openai) (3.6)\n",
      "Requirement already satisfied: certifi in /usr/local/opt/python-certifi/lib/python3.12/site-packages (from httpx<1,>=0.23.0->openai) (2024.2.2)\n",
      "Requirement already satisfied: httpcore==1.* in /usr/local/Cellar/jupyterlab/4.1.2/libexec/lib/python3.12/site-packages (from httpx<1,>=0.23.0->openai) (1.0.3)\n",
      "Requirement already satisfied: h11<0.15,>=0.13 in /usr/local/Cellar/jupyterlab/4.1.2/libexec/lib/python3.12/site-packages (from httpcore==1.*->httpx<1,>=0.23.0->openai) (0.14.0)\n",
      "Collecting annotated-types>=0.4.0 (from pydantic<3,>=1.9.0->openai)\n",
      "  Downloading annotated_types-0.6.0-py3-none-any.whl.metadata (12 kB)\n",
      "Collecting pydantic-core==2.16.3 (from pydantic<3,>=1.9.0->openai)\n",
      "  Downloading pydantic_core-2.16.3-cp312-cp312-macosx_10_12_x86_64.whl.metadata (6.5 kB)\n",
      "Downloading openai-1.14.0-py3-none-any.whl (257 kB)\n",
      "\u001b[2K   \u001b[90m━━━━━━━━━━━━━━━━━━━━━━━━━━━━━━━━━━━━━━━━\u001b[0m \u001b[32m257.5/257.5 kB\u001b[0m \u001b[31m2.5 MB/s\u001b[0m eta \u001b[36m0:00:00\u001b[0ma \u001b[36m0:00:01\u001b[0m\n",
      "\u001b[?25hDownloading distro-1.9.0-py3-none-any.whl (20 kB)\n",
      "Downloading pydantic-2.6.4-py3-none-any.whl (394 kB)\n",
      "\u001b[2K   \u001b[90m━━━━━━━━━━━━━━━━━━━━━━━━━━━━━━━━━━━━━━━━\u001b[0m \u001b[32m394.9/394.9 kB\u001b[0m \u001b[31m2.9 MB/s\u001b[0m eta \u001b[36m0:00:00\u001b[0m00:01\u001b[0m00:01\u001b[0m\n",
      "\u001b[?25hDownloading pydantic_core-2.16.3-cp312-cp312-macosx_10_12_x86_64.whl (1.9 MB)\n",
      "\u001b[2K   \u001b[90m━━━━━━━━━━━━━━━━━━━━━━━━━━━━━━━━━━━━━━━━\u001b[0m \u001b[32m1.9/1.9 MB\u001b[0m \u001b[31m2.5 MB/s\u001b[0m eta \u001b[36m0:00:00\u001b[0m00:01\u001b[0m00:01\u001b[0m\n",
      "\u001b[?25hDownloading tqdm-4.66.2-py3-none-any.whl (78 kB)\n",
      "\u001b[2K   \u001b[90m━━━━━━━━━━━━━━━━━━━━━━━━━━━━━━━━━━━━━━━━\u001b[0m \u001b[32m78.3/78.3 kB\u001b[0m \u001b[31m2.3 MB/s\u001b[0m eta \u001b[36m0:00:00\u001b[0m\n",
      "\u001b[?25hDownloading typing_extensions-4.10.0-py3-none-any.whl (33 kB)\n",
      "Downloading annotated_types-0.6.0-py3-none-any.whl (12 kB)\n",
      "Installing collected packages: typing-extensions, tqdm, distro, annotated-types, pydantic-core, pydantic, openai\n",
      "Successfully installed annotated-types-0.6.0 distro-1.9.0 openai-1.14.0 pydantic-2.6.4 pydantic-core-2.16.3 tqdm-4.66.2 typing-extensions-4.10.0\n",
      "Note: you may need to restart the kernel to use updated packages.\n"
     ]
    }
   ],
   "source": [
    "pip install openai"
   ]
  },
  {
   "cell_type": "code",
   "execution_count": 1,
   "id": "a6c0a794-f658-4d5e-ab98-c6ae9c65c791",
   "metadata": {},
   "outputs": [],
   "source": [
    "import requests\n",
    "from openai import OpenAI\n",
    "import os\n",
    "import json"
   ]
  },
  {
   "cell_type": "code",
   "execution_count": 6,
   "id": "a11113c8-7624-4ec2-a8ed-1f898113e8db",
   "metadata": {},
   "outputs": [],
   "source": [
    "class Ladybug:\n",
    "    def __init__(self):\n",
    "        self.google_key = # insert Google Maps API key here\n",
    "        self.open_ai_key = # insert OpenAI API hey here\n",
    "\n",
    "    def run_task(self):\n",
    "        print(\"Hi! I'm a ladybug, your travel assistant. Enter your origin, destination, and preferred mode of travel.\\n\")\n",
    "        origin = input(\"Origin: \")\n",
    "        print('\\n')\n",
    "        destination = input(\"Destination: \")\n",
    "        print('\\n')\n",
    "        print('Fetching response...')\n",
    "        response = self.answer_query(origin, destination)\n",
    "        print('\\n')\n",
    "        print(response)\n",
    "\n",
    "    def get_route(self, origin, destination):\n",
    "        origin = origin.replace(\" \", \"+\")\n",
    "        origin = origin.replace(\",\", \"%2C\")\n",
    "        destination = destination.replace(\" \", \"+\")\n",
    "        destination = destination.replace(\" \", \"%2C\")\n",
    "        key = self.google_key\n",
    "        url = f'https://maps.googleapis.com/maps/api/directions/json?destination={destination}&origin={origin}&key={key}'\n",
    "        response = requests.get(url)\n",
    "        data = response.json()\n",
    "        self.remove_polylines(data)\n",
    "        data = json.dumps(data)\n",
    "        return data\n",
    "\n",
    "    def remove_polylines(self, data):\n",
    "        routes = data[\"routes\"]\n",
    "        for route in routes:\n",
    "            legs = route[\"legs\"]\n",
    "            for leg in legs:\n",
    "                steps = leg[\"steps\"]\n",
    "                for step in steps:\n",
    "                    if \"polyline\" in step:\n",
    "                        del step[\"polyline\"]\n",
    "\n",
    "    def answer_query(self, origin, destination):\n",
    "        route = self.get_route(origin, destination)\n",
    "        os.environ[\"OPENAI_API_KEY\"] = self.open_ai_key\n",
    "\n",
    "        # self.get_updated_data()\n",
    "        client = OpenAI(\n",
    "            api_key=os.environ.get(\"OPENAI_API_KEY\"),\n",
    "        )\n",
    "        chat_completion = client.chat.completions.create(\n",
    "            messages=[\n",
    "                {\n",
    "                    \"role\": \"user\",\n",
    "                    \"content\": \"Provide the best driving, public transit, AND walking routes. If international or transcontinental, provide a airline route.\"\n",
    "                },\n",
    "                {\n",
    "                    \"role\": \"system\",\n",
    "                    \"content\": route\n",
    "                }\n",
    "            ],\n",
    "            model=\"gpt-3.5-turbo-0125\",\n",
    "        )\n",
    "        response = chat_completion.choices[0].message.content\n",
    "        return response"
   ]
  },
  {
   "cell_type": "code",
   "execution_count": 7,
   "id": "21e31f9c-5c33-4a3c-899f-20f0b17b9d0a",
   "metadata": {},
   "outputs": [
    {
     "name": "stdout",
     "output_type": "stream",
     "text": [
      "Hi! I'm a ladybug, your travel assistant. Enter your origin, destination, and preferred mode of travel.\n",
      "\n"
     ]
    },
    {
     "name": "stdin",
     "output_type": "stream",
     "text": [
      "Origin:  Harlem, NY\n"
     ]
    },
    {
     "name": "stdout",
     "output_type": "stream",
     "text": [
      "\n",
      "\n"
     ]
    },
    {
     "name": "stdin",
     "output_type": "stream",
     "text": [
      "Destination:  Koreatown, NY\n"
     ]
    },
    {
     "name": "stdout",
     "output_type": "stream",
     "text": [
      "\n",
      "\n",
      "Fetching response...\n",
      "\n",
      "\n",
      "The best driving route from Harlem, New York, NY to Koreatown, New York, NY is via FDR Dr, spanning about 7.6 miles and taking approximately 29 minutes.\n",
      "\n",
      "For public transit, you can take the subway from Harlem to Koreatown. This route involves taking the 6 train from 125 St Station to Grand Central-42 St Station, then transferring to the Q train to 34 St-Herald Sq Station where you can walk to Koreatown.\n",
      "\n",
      "If walking, the most direct route would be to head south on 7th Ave/Adam Clayton Powell Jr Blvd, turn left onto W 128th St, left onto Madison Ave, right onto E 132nd St, merge onto Harlem River Dr, continue onto FDR Dr, take exit 8 toward I-495/Midtown Tun/E 34 St, merge onto FDR Dr, turn right onto E 37th St, left onto 2nd Ave, right onto E 31st St, right onto 6th Ave/Ave of the Americas, and finally right onto W 32nd St to reach Koreatown.\n",
      "\n",
      "If looking for an airline route from Harlem to Koreatown internationally, it would not be applicable as both are located within the city of New York.\n"
     ]
    }
   ],
   "source": [
    "ladybug = Ladybug()\n",
    "ladybug.run_task()"
   ]
  },
  {
   "cell_type": "code",
   "execution_count": null,
   "id": "689b3af5-6670-41f0-829d-b2695e729a05",
   "metadata": {},
   "outputs": [],
   "source": []
  }
 ],
 "metadata": {
  "kernelspec": {
   "display_name": "Python 3 (ipykernel)",
   "language": "python",
   "name": "python3"
  },
  "language_info": {
   "codemirror_mode": {
    "name": "ipython",
    "version": 3
   },
   "file_extension": ".py",
   "mimetype": "text/x-python",
   "name": "python",
   "nbconvert_exporter": "python",
   "pygments_lexer": "ipython3",
   "version": "3.12.2"
  }
 },
 "nbformat": 4,
 "nbformat_minor": 5
}
